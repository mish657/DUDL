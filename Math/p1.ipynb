{
 "cells": [
  {
   "cell_type": "code",
   "execution_count": 2,
   "id": "a70424c8",
   "metadata": {},
   "outputs": [],
   "source": [
    "import numpy as np\n",
    "import pandas\n",
    "import torch"
   ]
  },
  {
   "cell_type": "code",
   "execution_count": 5,
   "id": "33974acc",
   "metadata": {},
   "outputs": [
    {
     "name": "stdout",
     "output_type": "stream",
     "text": [
      "[[1 2 3 4]]\n",
      " \n",
      "[[1]\n",
      " [2]\n",
      " [3]\n",
      " [4]]\n",
      " \n",
      "[[1 2 3 4]]\n"
     ]
    }
   ],
   "source": [
    "#create a vector\n",
    "nv=np.array([[1,2,3,4]])\n",
    "print(nv), print(' ')\n",
    "\n",
    "#transpose it\n",
    "print(nv.T),print(' ')\n",
    "\n",
    "#transpose the transpose\n",
    "nvT=nv.T\n",
    "print(nvT.T)"
   ]
  },
  {
   "cell_type": "code",
   "execution_count": 4,
   "id": "f1d25fdd",
   "metadata": {},
   "outputs": [
    {
     "name": "stdout",
     "output_type": "stream",
     "text": [
      "[[1 2 3 4]\n",
      " [5 6 7 8]]\n",
      " \n",
      "[[1 5]\n",
      " [2 6]\n",
      " [3 7]\n",
      " [4 8]]\n",
      " \n",
      "[[1 2 3 4]\n",
      " [5 6 7 8]]\n",
      " \n"
     ]
    },
    {
     "data": {
      "text/plain": [
       "(None, None)"
      ]
     },
     "execution_count": 4,
     "metadata": {},
     "output_type": "execute_result"
    }
   ],
   "source": [
    "#repeat for matrix\n",
    "\n",
    "nM=np.array([[1,2,3,4],[5,6,7,8]])\n",
    "print(nM), print(' ')\n",
    "\n",
    "#transposr it\n",
    "print(nM.T),print(' ')\n",
    "\n",
    "#transposre the transpose\n",
    "nmT=nM.T\n",
    "print(nmT.T),print(' ')"
   ]
  },
  {
   "cell_type": "code",
   "execution_count": 6,
   "id": "509c2ddb",
   "metadata": {},
   "outputs": [
    {
     "name": "stdout",
     "output_type": "stream",
     "text": [
      "tensor([[1, 2, 3, 4]])\n",
      " \n",
      "tensor([[1],\n",
      "        [2],\n",
      "        [3],\n",
      "        [4]])\n",
      " \n",
      "tensor([[1, 2, 3, 4]])\n"
     ]
    }
   ],
   "source": [
    "#using pytorch\n",
    "tv=torch.tensor([[1,2,3,4]])\n",
    "print(tv),print(' ')\n",
    "\n",
    "#transpose it\n",
    "print(tv.T), print(' ')\n",
    "\n",
    "#transpose the transpose\n",
    "tvT=tv.T\n",
    "print(tvT.T)\n"
   ]
  },
  {
   "cell_type": "code",
   "execution_count": null,
   "id": "8751211d",
   "metadata": {},
   "outputs": [],
   "source": []
  }
 ],
 "metadata": {
  "kernelspec": {
   "display_name": "Python 3",
   "language": "python",
   "name": "python3"
  },
  "language_info": {
   "codemirror_mode": {
    "name": "ipython",
    "version": 3
   },
   "file_extension": ".py",
   "mimetype": "text/x-python",
   "name": "python",
   "nbconvert_exporter": "python",
   "pygments_lexer": "ipython3",
   "version": "3.13.5"
  }
 },
 "nbformat": 4,
 "nbformat_minor": 5
}
