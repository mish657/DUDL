{
 "cells": [
  {
   "cell_type": "code",
   "execution_count": 1,
   "id": "cf3b6a40",
   "metadata": {},
   "outputs": [],
   "source": [
    "import numpy as np\n",
    "import matplotlib.pyplot as plt\n",
    "import torch"
   ]
  },
  {
   "cell_type": "code",
   "execution_count": 2,
   "id": "43e290e1",
   "metadata": {},
   "outputs": [
    {
     "name": "stdout",
     "output_type": "stream",
     "text": [
      "Entropy= 0.5623351446188083\n"
     ]
    }
   ],
   "source": [
    "x=[.25,.75]\n",
    "H=0\n",
    "for p in x:\n",
    "    H+= -p*np.log(p)\n",
    "\n",
    "print('Entropy= '+ str(H))"
   ]
  },
  {
   "cell_type": "code",
   "execution_count": 3,
   "id": "83a7d124",
   "metadata": {},
   "outputs": [
    {
     "name": "stdout",
     "output_type": "stream",
     "text": [
      "Correct Entropy: 0.5623351446188083\n"
     ]
    }
   ],
   "source": [
    "#for N=2\n",
    "p=0.25\n",
    "H1=-(p*np.log(p)+(1-p)*np.log(1-p))\n",
    "print('Correct Entropy: '+str(H1))"
   ]
  },
  {
   "cell_type": "code",
   "execution_count": 4,
   "id": "04571451",
   "metadata": {},
   "outputs": [
    {
     "name": "stdout",
     "output_type": "stream",
     "text": [
      "Cross Entropy: 1.3862943611198906\n"
     ]
    }
   ],
   "source": [
    "#Cross Entropy\n",
    "p1=[1,0]\n",
    "q1=[.25,.75]\n",
    "\n",
    "H=0\n",
    "for i in range(len(p1)):\n",
    "    H-=p1[i]*np.log(q1[i])\n",
    "\n",
    "print('Cross Entropy: '+ str(H))"
   ]
  },
  {
   "cell_type": "code",
   "execution_count": 5,
   "id": "cbe9947b",
   "metadata": {},
   "outputs": [],
   "source": [
    "#using torch \n",
    "import torch.nn.functional as F"
   ]
  },
  {
   "cell_type": "code",
   "execution_count": 7,
   "id": "62e73f98",
   "metadata": {},
   "outputs": [
    {
     "data": {
      "text/plain": [
       "tensor(1.3863)"
      ]
     },
     "execution_count": 7,
     "metadata": {},
     "output_type": "execute_result"
    }
   ],
   "source": [
    "qt=torch.Tensor(q1)\n",
    "pt=torch.Tensor(p1)\n",
    "\n",
    "F.binary_cross_entropy(qt,pt)"
   ]
  },
  {
   "cell_type": "code",
   "execution_count": null,
   "id": "da7126ef",
   "metadata": {},
   "outputs": [],
   "source": []
  }
 ],
 "metadata": {
  "kernelspec": {
   "display_name": "Python 3",
   "language": "python",
   "name": "python3"
  },
  "language_info": {
   "codemirror_mode": {
    "name": "ipython",
    "version": 3
   },
   "file_extension": ".py",
   "mimetype": "text/x-python",
   "name": "python",
   "nbconvert_exporter": "python",
   "pygments_lexer": "ipython3",
   "version": "3.13.5"
  }
 },
 "nbformat": 4,
 "nbformat_minor": 5
}
