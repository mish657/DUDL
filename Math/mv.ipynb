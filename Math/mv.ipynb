{
 "cells": [
  {
   "cell_type": "code",
   "execution_count": 1,
   "id": "ceed2b93",
   "metadata": {},
   "outputs": [],
   "source": [
    "import numpy as np"
   ]
  },
  {
   "cell_type": "code",
   "execution_count": 2,
   "id": "01c6d843",
   "metadata": {},
   "outputs": [
    {
     "name": "stdout",
     "output_type": "stream",
     "text": [
      "3.142857142857143\n",
      "3.142857142857143\n"
     ]
    }
   ],
   "source": [
    "x=[1,2,4,6,5,4,0]\n",
    "h=len(x)\n",
    "\n",
    "mean1=np.mean(x)\n",
    "mean2=np.sum(x)/h\n",
    "\n",
    "print(mean1)\n",
    "print(mean2)"
   ]
  },
  {
   "cell_type": "code",
   "execution_count": 4,
   "id": "f5baeb7c",
   "metadata": {},
   "outputs": [
    {
     "name": "stdout",
     "output_type": "stream",
     "text": [
      "4.809523809523809\n",
      "4.809523809523809\n"
     ]
    }
   ],
   "source": [
    "#variance\n",
    "\n",
    "var1=np.var(x,ddof=1)\n",
    "var2=(1/(h-1))*np.sum((x-mean1)**2)\n",
    "\n",
    "print(var1)\n",
    "print(var2)"
   ]
  },
  {
   "cell_type": "code",
   "execution_count": null,
   "id": "24e63662",
   "metadata": {},
   "outputs": [],
   "source": []
  }
 ],
 "metadata": {
  "kernelspec": {
   "display_name": "Python 3",
   "language": "python",
   "name": "python3"
  },
  "language_info": {
   "codemirror_mode": {
    "name": "ipython",
    "version": 3
   },
   "file_extension": ".py",
   "mimetype": "text/x-python",
   "name": "python",
   "nbconvert_exporter": "python",
   "pygments_lexer": "ipython3",
   "version": "3.13.5"
  }
 },
 "nbformat": 4,
 "nbformat_minor": 5
}
