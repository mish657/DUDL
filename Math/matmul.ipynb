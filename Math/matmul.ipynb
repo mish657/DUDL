{
 "cells": [
  {
   "cell_type": "code",
   "execution_count": 2,
   "id": "711777f3",
   "metadata": {},
   "outputs": [],
   "source": [
    "import numpy as np\n",
    "import torch"
   ]
  },
  {
   "cell_type": "code",
   "execution_count": 4,
   "id": "f3cfd225",
   "metadata": {},
   "outputs": [
    {
     "name": "stdout",
     "output_type": "stream",
     "text": [
      "[[ 3.31  4.72 -0.37 -1.38 -2.79]\n",
      " [-1.7   1.84 -1.63  0.12 -1.82]\n",
      " [ 1.87  2.9   0.1  -1.18 -2.02]]\n",
      " \n",
      "[[-5.61 -0.45 -3.81 -0.89]\n",
      " [-0.87  0.82  0.06 -1.08]\n",
      " [ 3.75 -0.19  3.13  1.53]\n",
      " [ 6.48  0.27  4.32  1.34]\n",
      " [-2.4  -1.28 -3.76  0.17]\n",
      " [-1.58 -0.71 -1.66  0.3 ]\n",
      " [ 0.31 -0.05 -0.35 -0.1 ]]\n"
     ]
    }
   ],
   "source": [
    "#create some random matrices\n",
    "A=np.random.randn(3,4)\n",
    "B=np.random.randn(4,5)\n",
    "C=np.random.randn(3,7)\n",
    "\n",
    "#try some multiplications\n",
    "np.matmul(A,B)\n",
    "\n",
    "#try some multiplications\n",
    "print(np.round(A@B,2)), print(' ')\n",
    "print(np.round(C.T@A,2))"
   ]
  },
  {
   "cell_type": "code",
   "execution_count": 5,
   "id": "5a336e04",
   "metadata": {},
   "outputs": [
    {
     "name": "stdout",
     "output_type": "stream",
     "text": [
      "tensor([[-0.9000, -0.6500,  0.9000,  0.8100, -2.6600],\n",
      "        [ 0.1000,  0.8900,  0.1700, -0.4400, -0.5400],\n",
      "        [-0.4000,  0.6300,  1.1000,  1.6300, -1.7200]])\n",
      " \n",
      "tensor([[-0.9700,  1.2800,  1.3400,  0.5900,  2.4500, -0.2100,  1.7400],\n",
      "        [-0.5500,  0.6100, -0.0300, -0.3700,  0.3500,  0.1500,  0.5000],\n",
      "        [ 0.3900,  1.0100,  0.9000, -0.8100,  2.1400, -0.6500,  1.6600]],\n",
      "       dtype=torch.float64)\n",
      " \n"
     ]
    },
    {
     "name": "stderr",
     "output_type": "stream",
     "text": [
      "C:\\Users\\Praditya\\AppData\\Local\\Temp\\ipykernel_17928\\933888391.py:9: DeprecationWarning: __array_wrap__ must accept context and return_scalar arguments (positionally) in the future. (Deprecated NumPy 2.0)\n",
      "  print(np.round(A@C1,2)), print(' ')\n"
     ]
    },
    {
     "data": {
      "text/plain": [
       "(None, None)"
      ]
     },
     "execution_count": 5,
     "metadata": {},
     "output_type": "execute_result"
    }
   ],
   "source": [
    "#using torch\n",
    "\n",
    "A=torch.randn(3,4)\n",
    "B=torch.randn(4,5)\n",
    "C1=np.random.randn(4,7)\n",
    "C2=torch.tensor(C1, dtype=torch.float)\n",
    "\n",
    "print(np.round(A@B,2)), print(' ')\n",
    "print(np.round(A@C1,2)), print(' ')\n"
   ]
  },
  {
   "cell_type": "code",
   "execution_count": null,
   "id": "3be2e096",
   "metadata": {},
   "outputs": [],
   "source": []
  }
 ],
 "metadata": {
  "kernelspec": {
   "display_name": "Python 3",
   "language": "python",
   "name": "python3"
  },
  "language_info": {
   "codemirror_mode": {
    "name": "ipython",
    "version": 3
   },
   "file_extension": ".py",
   "mimetype": "text/x-python",
   "name": "python",
   "nbconvert_exporter": "python",
   "pygments_lexer": "ipython3",
   "version": "3.13.5"
  }
 },
 "nbformat": 4,
 "nbformat_minor": 5
}
