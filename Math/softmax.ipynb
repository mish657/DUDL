{
 "cells": [
  {
   "cell_type": "code",
   "execution_count": 2,
   "id": "eac1ff80",
   "metadata": {},
   "outputs": [],
   "source": [
    "import numpy as np\n",
    "import torch\n",
    "import torch.nn as nn\n",
    "import matplotlib.pyplot as plt"
   ]
  },
  {
   "cell_type": "code",
   "execution_count": 3,
   "id": "dbd3b8ce",
   "metadata": {},
   "outputs": [
    {
     "name": "stdout",
     "output_type": "stream",
     "text": [
      "[0.09003057 0.24472847 0.66524096]\n",
      "1.0\n"
     ]
    }
   ],
   "source": [
    "z=[1,2,3]\n",
    "\n",
    "num=np.exp(z)\n",
    "den=np.sum(np.exp(z))\n",
    "sigma=num/den\n",
    "\n",
    "print(sigma)\n",
    "print(np.sum(sigma))"
   ]
  },
  {
   "cell_type": "code",
   "execution_count": 4,
   "id": "1a7a61ad",
   "metadata": {},
   "outputs": [
    {
     "name": "stderr",
     "output_type": "stream",
     "text": [
      "<>:11: SyntaxWarning: invalid escape sequence '\\s'\n",
      "<>:12: SyntaxWarning: invalid escape sequence '\\s'\n",
      "<>:11: SyntaxWarning: invalid escape sequence '\\s'\n",
      "<>:12: SyntaxWarning: invalid escape sequence '\\s'\n",
      "C:\\Users\\Praditya\\AppData\\Local\\Temp\\ipykernel_14044\\381430365.py:11: SyntaxWarning: invalid escape sequence '\\s'\n",
      "  plt.ylabel('Softmaxified $\\sigma$')\n",
      "C:\\Users\\Praditya\\AppData\\Local\\Temp\\ipykernel_14044\\381430365.py:12: SyntaxWarning: invalid escape sequence '\\s'\n",
      "  plt.title('$\\sum\\sigma$= %g' %np.sum(sigma))\n"
     ]
    },
    {
     "data": {
      "image/png": "[encoded data removed]",
      "text/plain": [
       "<Figure size 640x480 with 1 Axes>"
      ]
     },
     "metadata": {},
     "output_type": "display_data"
    }
   ],
   "source": [
    "z=np.random.randint(-5,high=15,size=25)\n",
    "\n",
    "#compute softmax result\n",
    "num=np.exp(z)\n",
    "den=np.sum(np.exp(z))\n",
    "sigma=num/den\n",
    "\n",
    "#compare\n",
    "plt.plot(z,sigma,'ko')\n",
    "plt.xlabel('Original number(z)')\n",
    "plt.ylabel('Softmaxified $\\sigma$')\n",
    "plt.title('$\\sum\\sigma$= %g' %np.sum(sigma))\n",
    "plt.show()"
   ]
  },
  {
   "cell_type": "code",
   "execution_count": 5,
   "id": "d355f7fd",
   "metadata": {},
   "outputs": [
    {
     "name": "stdout",
     "output_type": "stream",
     "text": [
      "tensor([3.5802e-09, 5.3134e-07, 6.3899e-01, 1.9547e-07, 1.4443e-06, 5.3134e-07,\n",
      "        3.9261e-06, 3.9261e-06, 7.8858e-05, 9.7319e-09, 4.3055e-03, 2.3507e-01,\n",
      "        1.5839e-03, 1.9547e-07, 2.9010e-05, 7.1909e-08, 3.9261e-06, 3.1814e-02,\n",
      "        1.0672e-05, 3.9261e-06, 8.6479e-02, 2.6454e-08, 2.9010e-05, 3.5802e-09,\n",
      "        1.5839e-03])\n"
     ]
    }
   ],
   "source": [
    "#using pytorch\n",
    "\n",
    "#create an instance of softmax activation class\n",
    "softfun=nn.Softmax(dim=0)\n",
    "\n",
    "#then apply the data to that function\n",
    "sigmaT=softfun(torch.Tensor(z))\n",
    "\n",
    "#now we get the results\n",
    "print(sigmaT)\n"
   ]
  },
  {
   "cell_type": "code",
   "execution_count": null,
   "id": "a76f30d7",
   "metadata": {},
   "outputs": [],
   "source": []
  }
 ],
 "metadata": {
  "kernelspec": {
   "display_name": "Python 3",
   "language": "python",
   "name": "python3"
  },
  "language_info": {
   "codemirror_mode": {
    "name": "ipython",
    "version": 3
   },
   "file_extension": ".py",
   "mimetype": "text/x-python",
   "name": "python",
   "nbconvert_exporter": "python",
   "pygments_lexer": "ipython3",
   "version": "3.13.5"
  }
 },
 "nbformat": 4,
 "nbformat_minor": 5
}
