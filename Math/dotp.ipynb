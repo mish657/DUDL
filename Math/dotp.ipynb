{
 "cells": [
  {
   "cell_type": "code",
   "execution_count": 2,
   "id": "b3e6ebc5",
   "metadata": {},
   "outputs": [],
   "source": [
    "import numpy as np\n",
    "import torch"
   ]
  },
  {
   "cell_type": "code",
   "execution_count": 3,
   "id": "724916bb",
   "metadata": {},
   "outputs": [
    {
     "name": "stdout",
     "output_type": "stream",
     "text": [
      "70\n",
      "70\n"
     ]
    }
   ],
   "source": [
    "#create a vector\n",
    "nv1=np.array([1,2,3,4])\n",
    "nv2=np.array([5,6,7,8])\n",
    "\n",
    "#dot product via the function\n",
    "print(np.dot(nv1,nv2))\n",
    "\n",
    "#via computation\n",
    "print(np.sum(nv1*nv2))"
   ]
  },
  {
   "cell_type": "code",
   "execution_count": 5,
   "id": "419b5a55",
   "metadata": {},
   "outputs": [
    {
     "name": "stdout",
     "output_type": "stream",
     "text": [
      "tensor(70)\n",
      "tensor(70)\n"
     ]
    }
   ],
   "source": [
    "#using pytorch\n",
    "\n",
    "tv1=torch.tensor([1,2,3,4])\n",
    "tv2=torch.tensor([5,6,7,8])\n",
    "\n",
    "#via function\n",
    "print(torch.dot(tv1,tv2))\n",
    "\n",
    "#via computation\n",
    "print(torch.sum(tv1*tv2))"
   ]
  },
  {
   "cell_type": "code",
   "execution_count": null,
   "id": "1ecc3d7e",
   "metadata": {},
   "outputs": [],
   "source": []
  }
 ],
 "metadata": {
  "kernelspec": {
   "display_name": "Python 3",
   "language": "python",
   "name": "python3"
  },
  "language_info": {
   "codemirror_mode": {
    "name": "ipython",
    "version": 3
   },
   "file_extension": ".py",
   "mimetype": "text/x-python",
   "name": "python",
   "nbconvert_exporter": "python",
   "pygments_lexer": "ipython3",
   "version": "3.13.5"
  }
 },
 "nbformat": 4,
 "nbformat_minor": 5
}
